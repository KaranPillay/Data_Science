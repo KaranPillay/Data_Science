{
 "cells": [
  {
   "cell_type": "markdown",
   "metadata": {},
   "source": [
    "# <center>K Nearest Neighbor<center>\n",
    "**<div align=right>Made by:</div>**\n",
    "<div align=right>Karan Ravindran Pillay</div>\n"
   ]
  },
  {
   "cell_type": "code",
   "execution_count": 1,
   "metadata": {},
   "outputs": [],
   "source": [
    "import pandas as pd\n",
    "import numpy as np\n",
    "import matplotlib.pyplot as plt\n",
    "from matplotlib.colors import ListedColormap"
   ]
  },
  {
   "cell_type": "code",
   "execution_count": 2,
   "metadata": {},
   "outputs": [],
   "source": [
    "data = pd.read_csv('knnData.csv')"
   ]
  },
  {
   "cell_type": "markdown",
   "metadata": {},
   "source": [
    "Let's see how our data looks like:"
   ]
  },
  {
   "cell_type": "code",
   "execution_count": 3,
   "metadata": {
    "scrolled": true
   },
   "outputs": [
    {
     "data": {
      "text/html": [
       "<div>\n",
       "<style scoped>\n",
       "    .dataframe tbody tr th:only-of-type {\n",
       "        vertical-align: middle;\n",
       "    }\n",
       "\n",
       "    .dataframe tbody tr th {\n",
       "        vertical-align: top;\n",
       "    }\n",
       "\n",
       "    .dataframe thead th {\n",
       "        text-align: right;\n",
       "    }\n",
       "</style>\n",
       "<table border=\"1\" class=\"dataframe\">\n",
       "  <thead>\n",
       "    <tr style=\"text-align: right;\">\n",
       "      <th></th>\n",
       "      <th>trainPoints_x1</th>\n",
       "      <th>trainPoints_x2</th>\n",
       "      <th>trainLabel</th>\n",
       "      <th>testPoints_x1</th>\n",
       "      <th>testPoints_x2</th>\n",
       "      <th>testLabel</th>\n",
       "    </tr>\n",
       "  </thead>\n",
       "  <tbody>\n",
       "    <tr>\n",
       "      <th>0</th>\n",
       "      <td>1.947005</td>\n",
       "      <td>4.256560</td>\n",
       "      <td>-1</td>\n",
       "      <td>-1.888977</td>\n",
       "      <td>-4.622611</td>\n",
       "      <td>1</td>\n",
       "    </tr>\n",
       "    <tr>\n",
       "      <th>1</th>\n",
       "      <td>0.794931</td>\n",
       "      <td>3.556851</td>\n",
       "      <td>-1</td>\n",
       "      <td>4.233796</td>\n",
       "      <td>3.851680</td>\n",
       "      <td>1</td>\n",
       "    </tr>\n",
       "    <tr>\n",
       "      <th>2</th>\n",
       "      <td>-0.264977</td>\n",
       "      <td>2.128280</td>\n",
       "      <td>-1</td>\n",
       "      <td>-0.697926</td>\n",
       "      <td>4.132868</td>\n",
       "      <td>-1</td>\n",
       "    </tr>\n",
       "    <tr>\n",
       "      <th>3</th>\n",
       "      <td>-1.555300</td>\n",
       "      <td>0.408163</td>\n",
       "      <td>-1</td>\n",
       "      <td>-3.151837</td>\n",
       "      <td>2.961839</td>\n",
       "      <td>-1</td>\n",
       "    </tr>\n",
       "    <tr>\n",
       "      <th>4</th>\n",
       "      <td>-0.956221</td>\n",
       "      <td>-0.991254</td>\n",
       "      <td>-1</td>\n",
       "      <td>4.048810</td>\n",
       "      <td>-4.012877</td>\n",
       "      <td>1</td>\n",
       "    </tr>\n",
       "  </tbody>\n",
       "</table>\n",
       "</div>"
      ],
      "text/plain": [
       "   trainPoints_x1  trainPoints_x2  trainLabel  testPoints_x1  testPoints_x2  \\\n",
       "0        1.947005        4.256560          -1      -1.888977      -4.622611   \n",
       "1        0.794931        3.556851          -1       4.233796       3.851680   \n",
       "2       -0.264977        2.128280          -1      -0.697926       4.132868   \n",
       "3       -1.555300        0.408163          -1      -3.151837       2.961839   \n",
       "4       -0.956221       -0.991254          -1       4.048810      -4.012877   \n",
       "\n",
       "   testLabel  \n",
       "0          1  \n",
       "1          1  \n",
       "2         -1  \n",
       "3         -1  \n",
       "4          1  "
      ]
     },
     "execution_count": 3,
     "metadata": {},
     "output_type": "execute_result"
    }
   ],
   "source": [
    "data.head()"
   ]
  },
  {
   "cell_type": "markdown",
   "metadata": {},
   "source": [
    "Split it into train and test $X$ and $y$."
   ]
  },
  {
   "cell_type": "code",
   "execution_count": 4,
   "metadata": {
    "scrolled": true
   },
   "outputs": [],
   "source": [
    "trainX = data[['trainPoints_x1', 'trainPoints_x2']]\n",
    "trainY = data['trainLabel']\n",
    "\n",
    "testX = data[['testPoints_x1', 'testPoints_x2']]\n",
    "testY = data['testLabel']"
   ]
  },
  {
   "cell_type": "markdown",
   "metadata": {},
   "source": [
    "## Visualization"
   ]
  },
  {
   "cell_type": "markdown",
   "metadata": {},
   "source": [
    "### Train data"
   ]
  },
  {
   "cell_type": "code",
   "execution_count": 5,
   "metadata": {},
   "outputs": [
    {
     "data": {
      "image/png": "[encoded data removed]",
      "text/plain": [
       "<Figure size 432x288 with 1 Axes>"
      ]
     },
     "metadata": {
      "needs_background": "light"
     },
     "output_type": "display_data"
    }
   ],
   "source": [
    "plt.scatter(trainX.iloc[:,0], trainX.iloc[:,1], c=trainY)\n",
    "plt.show()"
   ]
  },
  {
   "cell_type": "markdown",
   "metadata": {},
   "source": [
    "### Test data"
   ]
  },
  {
   "cell_type": "code",
   "execution_count": 6,
   "metadata": {},
   "outputs": [
    {
     "data": {
      "image/png": "[encoded data removed]",
      "text/plain": [
       "<Figure size 432x288 with 1 Axes>"
      ]
     },
     "metadata": {
      "needs_background": "light"
     },
     "output_type": "display_data"
    }
   ],
   "source": [
    "plt.scatter(testX.iloc[:,0], testX.iloc[:,1], c=testY)\n",
    "plt.show()"
   ]
  },
  {
   "cell_type": "markdown",
   "metadata": {},
   "source": [
    "## Weighted kNN"
   ]
  },
  {
   "cell_type": "markdown",
   "metadata": {},
   "source": [
    "### Norms"
   ]
  },
  {
   "cell_type": "code",
   "execution_count": 7,
   "metadata": {},
   "outputs": [],
   "source": [
    "def l2Norm(x, y):\n",
    "    x = np.array(x)\n",
    "    y = np.array(y)\n",
    "    return (sum((x - y) ** 2)) ** 0.5\n",
    "#     return np.linalg.norm(np.array(x) - np.array(y))"
   ]
  },
  {
   "cell_type": "code",
   "execution_count": 8,
   "metadata": {},
   "outputs": [],
   "source": [
    "def l1Norm(x, y):\n",
    "    x = np.array(x)\n",
    "    y = np.array(y)\n",
    "    return sum(abs(x - y))\n",
    "#     return np.linalg.norm(np.array(x) - np.array(y), ord=1)"
   ]
  },
  {
   "cell_type": "code",
   "execution_count": 9,
   "metadata": {},
   "outputs": [],
   "source": [
    "def lInfNorm(x, y):\n",
    "    x = np.array(x)\n",
    "    y = np.array(y)\n",
    "    return max(abs(x - y))\n",
    "#     return np.linalg.norm(np.array(x) - np.array(y), ord=np.inf)"
   ]
  },
  {
   "cell_type": "markdown",
   "metadata": {},
   "source": [
    "Next function defines weights to be used."
   ]
  },
  {
   "cell_type": "code",
   "execution_count": 10,
   "metadata": {},
   "outputs": [],
   "source": [
    "def weights(distances):\n",
    "    return np.array([1 / d ** 2 for d in distances])"
   ]
  },
  {
   "cell_type": "markdown",
   "metadata": {},
   "source": [
    "### Custom kNN"
   ]
  },
  {
   "cell_type": "code",
   "execution_count": 11,
   "metadata": {},
   "outputs": [],
   "source": [
    "def predictWeightedKNN(trainX, trainY, testXPoint, k, distance=l2Norm, weights=weights):\n",
    "    \n",
    "#     get vector of distances\n",
    "    distances = np.array([distance(trainXPoint, testXPoint) ** 2 for _, trainXPoint in trainX.iterrows()])\n",
    "#    convert it into weights\n",
    "    w = weights(distances)\n",
    "    \n",
    "#     get vector of indices of closest neighbors\n",
    "    neighborsIndixes = np.argpartition(distances, k)[:k]\n",
    "    \n",
    "#     get pairs of label - quantity of points with this label\n",
    "    neighbors = trainY[neighborsIndixes].value_counts()\n",
    "\n",
    "#     get weights for weighted average\n",
    "    w = [sum(w[neighborsIndixes][[ind for ind in trainY[neighborsIndixes] == label]]) \n",
    "               for label in neighbors.index.values] # neighbors.index.values\n",
    "\n",
    "#     apply them (formally speaking, we also need to divide by sum(w), but for classification problem we can ignore that)\n",
    "    neighbors = neighbors * w\n",
    "    \n",
    "    \n",
    "#     when there are equal probabilities for several labels function will return random from them     \n",
    "    return neighbors[neighbors == np.max(neighbors)].index.values \\\n",
    "                [np.random.randint(0, len(neighbors[neighbors == np.max(neighbors)]))]"
   ]
  },
  {
   "cell_type": "markdown",
   "metadata": {},
   "source": [
    "(For this particular dataset we can implement kNN easier by simply taking weighted sum of labels of neighbors and checking for sign, but we will go with more general solution)."
   ]
  },
  {
   "cell_type": "code",
   "execution_count": 12,
   "metadata": {},
   "outputs": [],
   "source": [
    "def accuracyForNorm(norm):\n",
    "    acc = 0\n",
    "    for i in range(len(testY)):\n",
    "        acc += predictWeightedKNN(trainX, trainY, testX.iloc[i], 3, norm) == testY[i]\n",
    "    return acc / len(testY)"
   ]
  },
  {
   "cell_type": "code",
   "execution_count": 13,
   "metadata": {},
   "outputs": [
    {
     "name": "stdout",
     "output_type": "stream",
     "text": [
      "Accuracy of custom kNN for L2 norm is 0.825.\n"
     ]
    }
   ],
   "source": [
    "print(f'Accuracy of custom kNN for L2 norm is {accuracyForNorm(l2Norm)}.')"
   ]
  },
  {
   "cell_type": "code",
   "execution_count": 14,
   "metadata": {},
   "outputs": [
    {
     "name": "stdout",
     "output_type": "stream",
     "text": [
      "Accuracy of custom kNN for L1 norm is 0.875.\n"
     ]
    }
   ],
   "source": [
    "print(f'Accuracy of custom kNN for L1 norm is {accuracyForNorm(l1Norm)}.')"
   ]
  },
  {
   "cell_type": "code",
   "execution_count": 15,
   "metadata": {},
   "outputs": [
    {
     "name": "stdout",
     "output_type": "stream",
     "text": [
      "Accuracy of custom kNN for L-Inf norm is 0.875.\n"
     ]
    }
   ],
   "source": [
    "print(f'Accuracy of custom kNN for L-Inf norm is {accuracyForNorm(lInfNorm)}.')"
   ]
  },
  {
   "cell_type": "markdown",
   "metadata": {},
   "source": [
    "-------"
   ]
  },
  {
   "cell_type": "markdown",
   "metadata": {},
   "source": [
    "### sklearn kNN"
   ]
  },
  {
   "cell_type": "markdown",
   "metadata": {},
   "source": [
    "Rechecking using sklearn KNeighborsClassifier."
   ]
  },
  {
   "cell_type": "code",
   "execution_count": 16,
   "metadata": {},
   "outputs": [],
   "source": [
    "from sklearn.neighbors import KNeighborsClassifier\n",
    "from sklearn.metrics import accuracy_score\n",
    "from sklearn.metrics import recall_score\n",
    "from sklearn.metrics import confusion_matrix"
   ]
  },
  {
   "cell_type": "markdown",
   "metadata": {},
   "source": [
    "Note: if instead of `weights` we will set `'distance'` analoguous weights will be used, but without squaring."
   ]
  },
  {
   "cell_type": "code",
   "execution_count": 17,
   "metadata": {},
   "outputs": [
    {
     "name": "stdout",
     "output_type": "stream",
     "text": [
      "\u001b[1m3-NN for L2 norm:\u001b[0m\n",
      "Accuracy score is 0.825.\n",
      "Recall score is 0.7142857142857143.\n",
      "Confusion matrix is:\n",
      "[[23  3]\n",
      " [ 4 10]]\n"
     ]
    }
   ],
   "source": [
    "sklearnKNNL2 = KNeighborsClassifier(3, weights=weights, metric=l2Norm)\n",
    "sklearnKNNL2.fit(trainX, trainY)\n",
    "predY = sklearnKNNL2.predict(testX)\n",
    "\n",
    "print('\\033[1m3-NN for L2 norm:\\033[0m')\n",
    "print(f'Accuracy score is {accuracy_score(testY, predY)}.')\n",
    "print(f'Recall score is {recall_score(testY, predY)}.')\n",
    "print(f'Confusion matrix is:')\n",
    "print(confusion_matrix(testY, predY))"
   ]
  },
  {
   "cell_type": "code",
   "execution_count": 18,
   "metadata": {},
   "outputs": [
    {
     "name": "stdout",
     "output_type": "stream",
     "text": [
      "\u001b[1m3-NN for L1 norm:\u001b[0m\n",
      "Accuracy score is 0.875.\n",
      "Recall score is 0.7857142857142857.\n",
      "Confusion matrix is:\n",
      "[[24  2]\n",
      " [ 3 11]]\n"
     ]
    }
   ],
   "source": [
    "sklearnKNNL1 = KNeighborsClassifier(3, weights=weights, metric=l1Norm)\n",
    "sklearnKNNL1.fit(trainX, trainY)\n",
    "predY = sklearnKNNL1.predict(testX)\n",
    "\n",
    "print('\\033[1m3-NN for L1 norm:\\033[0m')\n",
    "print(f'Accuracy score is {accuracy_score(testY, predY)}.')\n",
    "print(f'Recall score is {recall_score(testY, predY)}.')\n",
    "print(f'Confusion matrix is:')\n",
    "print(confusion_matrix(testY, predY))"
   ]
  },
  {
   "cell_type": "code",
   "execution_count": 19,
   "metadata": {},
   "outputs": [
    {
     "name": "stdout",
     "output_type": "stream",
     "text": [
      "\u001b[1m3-NN for L-Inf norm:\u001b[0m\n",
      "Accuracy score is 0.875.\n",
      "Recall score is 0.7857142857142857.\n",
      "Confusion matrix of kNN for L-Inf norm is:\n",
      "[[24  2]\n",
      " [ 3 11]]\n"
     ]
    }
   ],
   "source": [
    "sklearnKNNLInf = KNeighborsClassifier(3, weights=weights, metric=lInfNorm)\n",
    "sklearnKNNLInf.fit(trainX, trainY)\n",
    "predY = sklearnKNNLInf.predict(testX)\n",
    "\n",
    "print('\\033[1m3-NN for L-Inf norm:\\033[0m')\n",
    "print(f'Accuracy score is {accuracy_score(testY, predY)}.')\n",
    "print(f'Recall score is {recall_score(testY, predY)}.')\n",
    "print(f'Confusion matrix of kNN for L-Inf norm is:')\n",
    "print(confusion_matrix(testY, predY))"
   ]
  },
  {
   "cell_type": "markdown",
   "metadata": {},
   "source": [
    "### Voronoi diagrams"
   ]
  },
  {
   "cell_type": "markdown",
   "metadata": {},
   "source": [
    "Next function plots Voronoi diagram by predicting value for each meshgrid."
   ]
  },
  {
   "cell_type": "code",
   "execution_count": 20,
   "metadata": {
    "scrolled": false
   },
   "outputs": [],
   "source": [
    "def plotVoronoi(d, labels, model, ax=None):\n",
    "#     https://stackoverflow.com/questions/52054491/matplotlib-how-to-return-a-matplotlib-object-then-plot-as-subplot\n",
    "    ax = ax or plt.gca()\n",
    "    \n",
    "    h = 0.05\n",
    "    \n",
    "    # Create color maps\n",
    "    cmap_light = ListedColormap(['#ffffcc', '#ff8080','#ccd9ff','#f5ccff','#aaaaaa'])\n",
    "    colormap = np.array(['yellow', 'red', 'blue','magenta','black'])\n",
    "\n",
    "    x_min, x_max = d.iloc[:,0].min() - 1, d.iloc[:,0].max() + 1\n",
    "    y_min, y_max = d.iloc[:,1].min() - 1, d.iloc[:,1].max() + 1\n",
    "    \n",
    "    xx, yy = np.meshgrid(np.arange(x_min, x_max, h), np.arange(y_min, y_max, h))\n",
    "    \n",
    "    Z = model.predict(np.c_[xx.ravel(), yy.ravel()])\n",
    "    \n",
    "    # Put the result into a color plot\n",
    "    Z = Z.reshape(xx.shape)\n",
    "    ax.pcolor(xx, yy, Z, cmap = cmap_light)\n",
    "    \n",
    "    # Plot also the training points\n",
    "    ax.scatter(d.iloc[:,0], d.iloc[:,1], c = colormap[labels], s = 120)\n",
    "    plt.xlim(xx.min(), xx.max())\n",
    "    plt.ylim(yy.min(), yy.max())\n",
    "    ax.set_title(model.metric.__name__)\n",
    "    return fig"
   ]
  },
  {
   "cell_type": "code",
   "execution_count": 21,
   "metadata": {},
   "outputs": [
    {
     "data": {
      "image/png": "[encoded data removed]",
      "text/plain": [
       "<Figure size 2160x720 with 3 Axes>"
      ]
     },
     "metadata": {
      "needs_background": "light"
     },
     "output_type": "display_data"
    }
   ],
   "source": [
    "fig, (ax1, ax2, ax3) = plt.subplots(ncols=3, figsize=(30, 10))\n",
    "fig.suptitle('Voronoi diagrams')\n",
    "plotVoronoi(trainX, trainY, sklearnKNNL1, ax1)\n",
    "plotVoronoi(trainX, trainY, sklearnKNNL2, ax2)\n",
    "plotVoronoi(trainX, trainY, sklearnKNNLInf, ax3)\n",
    "plt.show()"
   ]
  },
  {
   "cell_type": "markdown",
   "metadata": {},
   "source": [
    "## Conclusion"
   ]
  },
  {
   "cell_type": "markdown",
   "metadata": {},
   "source": [
    "For this particular dataset L1 and L-Inf gives best results with accuracy of 87.5%, while L1 norm gives worst results with accuracy of 82.5%. We can see differences in decision borders on Voronoi diagrams."
   ]
  },
  {
   "cell_type": "code",
   "execution_count": null,
   "metadata": {},
   "outputs": [],
   "source": []
  }
 ],
 "metadata": {
  "kernelspec": {
   "display_name": "Python 3",
   "language": "python",
   "name": "python3"
  },
  "language_info": {
   "codemirror_mode": {
    "name": "ipython",
    "version": 3
   },
   "file_extension": ".py",
   "mimetype": "text/x-python",
   "name": "python",
   "nbconvert_exporter": "python",
   "pygments_lexer": "ipython3",
   "version": "3.8.3"
  }
 },
 "nbformat": 4,
 "nbformat_minor": 2
}
