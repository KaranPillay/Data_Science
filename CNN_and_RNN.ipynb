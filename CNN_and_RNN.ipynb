{
 "cells": [
  {
   "cell_type": "markdown",
   "metadata": {},
   "source": [
    "### CNN and RNN\n",
    "## Karan Pillay"
   ]
  },
  {
   "cell_type": "markdown",
   "metadata": {},
   "source": [
    "# Part 1"
   ]
  },
  {
   "cell_type": "markdown",
   "metadata": {},
   "source": [
    "### Loading the dataset"
   ]
  },
  {
   "cell_type": "code",
   "execution_count": 1,
   "metadata": {},
   "outputs": [
    {
     "name": "stderr",
     "output_type": "stream",
     "text": [
      "Using TensorFlow backend.\n"
     ]
    }
   ],
   "source": [
    "import keras\n",
    "from keras.models import Sequential,Input,Model\n",
    "from keras.layers import Dense, Dropout, Flatten\n",
    "from keras.layers import Conv2D, MaxPooling2D\n",
    "from keras.layers.normalization import BatchNormalization\n",
    "from keras.layers.advanced_activations import LeakyReLU\n",
    "from keras.datasets import fashion_mnist\n",
    "import pandas as pd\n",
    "from keras.datasets import fashion_mnist\n",
    "import keras\n",
    "from keras import models, layers, optimizers\n",
    "from keras.utils import to_categorical\n",
    "from keras.datasets import mnist"
   ]
  },
  {
   "cell_type": "code",
   "execution_count": 2,
   "metadata": {},
   "outputs": [],
   "source": [
    "(train_X,train_Y), (test_X,test_Y) = fashion_mnist.load_data()"
   ]
  },
  {
   "cell_type": "markdown",
   "metadata": {},
   "source": [
    "### Analyze the data"
   ]
  },
  {
   "cell_type": "code",
   "execution_count": 3,
   "metadata": {},
   "outputs": [
    {
     "name": "stdout",
     "output_type": "stream",
     "text": [
      "Training data shape :  (60000, 28, 28) (60000,)\n",
      "Testing data shape :  (10000, 28, 28) (10000,)\n"
     ]
    }
   ],
   "source": [
    "\n",
    "import numpy as np\n",
    "from keras.utils import to_categorical\n",
    "import matplotlib.pyplot as plt\n",
    "%matplotlib inline\n",
    "\n",
    "print('Training data shape : ', train_X.shape, train_Y.shape)\n",
    "\n",
    "print('Testing data shape : ', test_X.shape, test_Y.shape)"
   ]
  },
  {
   "cell_type": "code",
   "execution_count": 4,
   "metadata": {},
   "outputs": [
    {
     "name": "stdout",
     "output_type": "stream",
     "text": [
      "Total number of outputs :  10\n",
      "Output classes :  [0 1 2 3 4 5 6 7 8 9]\n"
     ]
    }
   ],
   "source": [
    "classes = np.unique(train_Y)\n",
    "nClasses = len(classes)\n",
    "print('Total number of outputs : ', nClasses)\n",
    "print('Output classes : ', classes)"
   ]
  },
  {
   "cell_type": "code",
   "execution_count": 5,
   "metadata": {},
   "outputs": [
    {
     "data": {
      "text/plain": [
       "Text(0.5, 1.0, 'Ground Truth : 9')"
      ]
     },
     "execution_count": 5,
     "metadata": {},
     "output_type": "execute_result"
    },
    {
     "data": {
      "image/png": "[encoded data removed]",
      "text/plain": [
       "<Figure size 360x360 with 2 Axes>"
      ]
     },
     "metadata": {
      "needs_background": "light"
     },
     "output_type": "display_data"
    }
   ],
   "source": [
    "plt.figure(figsize=[5,5])\n",
    "\n",
    "# Display the first image in training data\n",
    "plt.subplot(121)\n",
    "plt.imshow(train_X[0,:,:], cmap='gray')\n",
    "plt.title(\"Ground Truth : {}\".format(train_Y[0]))\n",
    "\n",
    "# Display the first image in testing data\n",
    "plt.subplot(122)\n",
    "plt.imshow(test_X[0,:,:], cmap='gray')\n",
    "plt.title(\"Ground Truth : {}\".format(test_Y[0]))"
   ]
  },
  {
   "cell_type": "markdown",
   "metadata": {},
   "source": [
    "### Data pre-processing "
   ]
  },
  {
   "cell_type": "code",
   "execution_count": 6,
   "metadata": {},
   "outputs": [
    {
     "data": {
      "text/plain": [
       "((60000, 28, 28, 1), (10000, 28, 28, 1))"
      ]
     },
     "execution_count": 6,
     "metadata": {},
     "output_type": "execute_result"
    }
   ],
   "source": [
    "train_X = train_X.reshape(-1, 28,28, 1)\n",
    "test_X = test_X.reshape(-1, 28,28, 1)\n",
    "train_X.shape, test_X.shape"
   ]
  },
  {
   "cell_type": "code",
   "execution_count": 7,
   "metadata": {},
   "outputs": [],
   "source": [
    "train_X = train_X.astype('float32')\n",
    "test_X = test_X.astype('float32')\n",
    "train_X = train_X / 255.\n",
    "test_X = test_X / 255."
   ]
  },
  {
   "cell_type": "code",
   "execution_count": 8,
   "metadata": {},
   "outputs": [
    {
     "name": "stdout",
     "output_type": "stream",
     "text": [
      "Original label: 9\n",
      "After conversion to one-hot: [0. 0. 0. 0. 0. 0. 0. 0. 0. 1.]\n"
     ]
    }
   ],
   "source": [
    "# Change the labels from categorical to one-hot encoding\n",
    "train_Y_one_hot = to_categorical(train_Y)\n",
    "test_Y_one_hot = to_categorical(test_Y)\n",
    "\n",
    "# Display the change for category label using one-hot encoding\n",
    "print('Original label:', train_Y[0])\n",
    "print('After conversion to one-hot:', train_Y_one_hot[0])"
   ]
  },
  {
   "cell_type": "code",
   "execution_count": 9,
   "metadata": {},
   "outputs": [],
   "source": [
    "from sklearn.model_selection import train_test_split\n",
    "train_X,valid_X,train_label,valid_label = train_test_split(train_X, train_Y_one_hot, test_size=0.2, random_state=13)"
   ]
  },
  {
   "cell_type": "code",
   "execution_count": 10,
   "metadata": {},
   "outputs": [
    {
     "data": {
      "text/plain": [
       "((48000, 28, 28, 1), (12000, 28, 28, 1), (48000, 10), (12000, 10))"
      ]
     },
     "execution_count": 10,
     "metadata": {},
     "output_type": "execute_result"
    }
   ],
   "source": [
    "train_X.shape,valid_X.shape,train_label.shape,valid_label.shape\n"
   ]
  },
  {
   "cell_type": "markdown",
   "metadata": {},
   "source": [
    "### Modeling the data "
   ]
  },
  {
   "cell_type": "code",
   "execution_count": 11,
   "metadata": {},
   "outputs": [],
   "source": [
    "batch_size = 64\n",
    "epochs = 15\n",
    "num_classes = 10"
   ]
  },
  {
   "cell_type": "code",
   "execution_count": 12,
   "metadata": {},
   "outputs": [],
   "source": [
    "fashion_model = Sequential()\n",
    "fashion_model.add(Conv2D(32, kernel_size=(3, 3),activation='linear',input_shape=(28,28,1),padding='same'))\n",
    "fashion_model.add(LeakyReLU(alpha=0.1))\n",
    "fashion_model.add(MaxPooling2D((2, 2),padding='same'))\n",
    "fashion_model.add(Conv2D(64, (3, 3), activation='linear',padding='same'))\n",
    "fashion_model.add(LeakyReLU(alpha=0.1))\n",
    "fashion_model.add(MaxPooling2D(pool_size=(2, 2),padding='same'))\n",
    "fashion_model.add(Conv2D(128, (3, 3), activation='linear',padding='same'))\n",
    "fashion_model.add(LeakyReLU(alpha=0.1))                  \n",
    "fashion_model.add(MaxPooling2D(pool_size=(2, 2),padding='same'))\n",
    "fashion_model.add(Flatten())\n",
    "fashion_model.add(Dense(128, activation='linear'))\n",
    "fashion_model.add(LeakyReLU(alpha=0.1))                  \n",
    "fashion_model.add(Dense(num_classes, activation='softmax'))"
   ]
  },
  {
   "cell_type": "code",
   "execution_count": 13,
   "metadata": {},
   "outputs": [],
   "source": [
    "# Compiling the model"
   ]
  },
  {
   "cell_type": "code",
   "execution_count": 14,
   "metadata": {},
   "outputs": [],
   "source": [
    "fashion_model.compile(loss=keras.losses.categorical_crossentropy, optimizer=keras.optimizers.Adam(),metrics=['accuracy'])"
   ]
  },
  {
   "cell_type": "code",
   "execution_count": 15,
   "metadata": {},
   "outputs": [
    {
     "name": "stdout",
     "output_type": "stream",
     "text": [
      "Model: \"sequential_1\"\n",
      "_________________________________________________________________\n",
      "Layer (type)                 Output Shape              Param #   \n",
      "=================================================================\n",
      "conv2d_1 (Conv2D)            (None, 28, 28, 32)        320       \n",
      "_________________________________________________________________\n",
      "leaky_re_lu_1 (LeakyReLU)    (None, 28, 28, 32)        0         \n",
      "_________________________________________________________________\n",
      "max_pooling2d_1 (MaxPooling2 (None, 14, 14, 32)        0         \n",
      "_________________________________________________________________\n",
      "conv2d_2 (Conv2D)            (None, 14, 14, 64)        18496     \n",
      "_________________________________________________________________\n",
      "leaky_re_lu_2 (LeakyReLU)    (None, 14, 14, 64)        0         \n",
      "_________________________________________________________________\n",
      "max_pooling2d_2 (MaxPooling2 (None, 7, 7, 64)          0         \n",
      "_________________________________________________________________\n",
      "conv2d_3 (Conv2D)            (None, 7, 7, 128)         73856     \n",
      "_________________________________________________________________\n",
      "leaky_re_lu_3 (LeakyReLU)    (None, 7, 7, 128)         0         \n",
      "_________________________________________________________________\n",
      "max_pooling2d_3 (MaxPooling2 (None, 4, 4, 128)         0         \n",
      "_________________________________________________________________\n",
      "flatten_1 (Flatten)          (None, 2048)              0         \n",
      "_________________________________________________________________\n",
      "dense_1 (Dense)              (None, 128)               262272    \n",
      "_________________________________________________________________\n",
      "leaky_re_lu_4 (LeakyReLU)    (None, 128)               0         \n",
      "_________________________________________________________________\n",
      "dense_2 (Dense)              (None, 10)                1290      \n",
      "=================================================================\n",
      "Total params: 356,234\n",
      "Trainable params: 356,234\n",
      "Non-trainable params: 0\n",
      "_________________________________________________________________\n"
     ]
    }
   ],
   "source": [
    "# Train the Model\n",
    "fashion_model.summary()\n"
   ]
  },
  {
   "cell_type": "code",
   "execution_count": 16,
   "metadata": {},
   "outputs": [
    {
     "name": "stdout",
     "output_type": "stream",
     "text": [
      "Train on 48000 samples, validate on 12000 samples\n",
      "Epoch 1/15\n",
      "48000/48000 [==============================] - 111s 2ms/step - loss: 0.4605 - accuracy: 0.8307 - val_loss: 0.3366 - val_accuracy: 0.8777\n",
      "Epoch 2/15\n",
      "48000/48000 [==============================] - 112s 2ms/step - loss: 0.2897 - accuracy: 0.8936 - val_loss: 0.3078 - val_accuracy: 0.8852\n",
      "Epoch 3/15\n",
      "48000/48000 [==============================] - 111s 2ms/step - loss: 0.2430 - accuracy: 0.9093 - val_loss: 0.2580 - val_accuracy: 0.9057\n",
      "Epoch 4/15\n",
      "48000/48000 [==============================] - 116s 2ms/step - loss: 0.2106 - accuracy: 0.9224 - val_loss: 0.2443 - val_accuracy: 0.9109\n",
      "Epoch 5/15\n",
      "48000/48000 [==============================] - 109s 2ms/step - loss: 0.1858 - accuracy: 0.9305 - val_loss: 0.2470 - val_accuracy: 0.9115\n",
      "Epoch 6/15\n",
      "48000/48000 [==============================] - 110s 2ms/step - loss: 0.1611 - accuracy: 0.9405 - val_loss: 0.2349 - val_accuracy: 0.9203\n",
      "Epoch 7/15\n",
      "48000/48000 [==============================] - 115s 2ms/step - loss: 0.1427 - accuracy: 0.9461 - val_loss: 0.2434 - val_accuracy: 0.9171\n",
      "Epoch 8/15\n",
      "48000/48000 [==============================] - 128s 3ms/step - loss: 0.1215 - accuracy: 0.9535 - val_loss: 0.2478 - val_accuracy: 0.9181\n",
      "Epoch 9/15\n",
      "48000/48000 [==============================] - 124s 3ms/step - loss: 0.1039 - accuracy: 0.9621 - val_loss: 0.2535 - val_accuracy: 0.9197\n",
      "Epoch 10/15\n",
      "48000/48000 [==============================] - 135s 3ms/step - loss: 0.0862 - accuracy: 0.9675 - val_loss: 0.2901 - val_accuracy: 0.9213\n",
      "Epoch 11/15\n",
      "48000/48000 [==============================] - 118s 2ms/step - loss: 0.0755 - accuracy: 0.9712 - val_loss: 0.3170 - val_accuracy: 0.9166\n",
      "Epoch 12/15\n",
      "48000/48000 [==============================] - 112s 2ms/step - loss: 0.0612 - accuracy: 0.9774 - val_loss: 0.3322 - val_accuracy: 0.9178\n",
      "Epoch 13/15\n",
      "48000/48000 [==============================] - 108s 2ms/step - loss: 0.0555 - accuracy: 0.9800 - val_loss: 0.3424 - val_accuracy: 0.9185\n",
      "Epoch 14/15\n",
      "48000/48000 [==============================] - 109s 2ms/step - loss: 0.0464 - accuracy: 0.9825 - val_loss: 0.3822 - val_accuracy: 0.9158\n",
      "Epoch 15/15\n",
      "48000/48000 [==============================] - 111s 2ms/step - loss: 0.0439 - accuracy: 0.9839 - val_loss: 0.3837 - val_accuracy: 0.9187\n"
     ]
    }
   ],
   "source": [
    "fashion_train = fashion_model.fit(train_X, train_label, batch_size=batch_size,epochs=epochs,verbose=1,validation_data=(valid_X, valid_label))"
   ]
  },
  {
   "cell_type": "markdown",
   "metadata": {},
   "source": [
    "### Model Evaluation on the Test Set"
   ]
  },
  {
   "cell_type": "code",
   "execution_count": 17,
   "metadata": {},
   "outputs": [],
   "source": [
    "test_eval = fashion_model.evaluate(test_X, test_Y_one_hot, verbose=0)\n"
   ]
  },
  {
   "cell_type": "code",
   "execution_count": 18,
   "metadata": {},
   "outputs": [
    {
     "name": "stdout",
     "output_type": "stream",
     "text": [
      "Test loss: 0.40563538425099105\n",
      "Test accuracy: 0.9182000160217285\n"
     ]
    }
   ],
   "source": [
    "print('Test loss:', test_eval[0])\n",
    "print('Test accuracy:', test_eval[1])"
   ]
  },
  {
   "cell_type": "markdown",
   "metadata": {},
   "source": [
    "***From the below two plots, you can see that the validation accuracy almost became stagnant after 4-5 epochs and rarely increased at certain epochs. In the beginning, the validation accuracy was linearly increasing with loss, but then it did not increase much. <br>***\n",
    "\n",
    "***The validation loss shows that this is the sign of overfitting, similar to validation accuracy it linearly decreased but after 4-5 epochs, it started to increase. This means that the model tried to memorize the data and succeeded.<br>***"
   ]
  },
  {
   "cell_type": "code",
   "execution_count": 19,
   "metadata": {},
   "outputs": [
    {
     "data": {
      "image/png": "[encoded data removed]",
      "text/plain": [
       "<Figure size 432x288 with 1 Axes>"
      ]
     },
     "metadata": {
      "needs_background": "light"
     },
     "output_type": "display_data"
    },
    {
     "data": {
      "image/png": "[encoded data removed]",
      "text/plain": [
       "<Figure size 432x288 with 1 Axes>"
      ]
     },
     "metadata": {
      "needs_background": "light"
     },
     "output_type": "display_data"
    }
   ],
   "source": [
    "accuracy = fashion_train.history['accuracy']\n",
    "val_accuracy = fashion_train.history['val_accuracy']\n",
    "loss = fashion_train.history['loss']\n",
    "val_loss = fashion_train.history['val_loss']\n",
    "epochs = range(len(accuracy))\n",
    "plt.plot(epochs, accuracy, 'bo', label='Training accuracy')\n",
    "plt.plot(epochs, val_accuracy, 'b', label='Validation accuracy')\n",
    "plt.title('Training and validation accuracy')\n",
    "plt.legend()\n",
    "plt.figure()\n",
    "plt.plot(epochs, loss, 'bo', label='Training loss')\n",
    "plt.plot(epochs, val_loss, 'b', label='Validation loss')\n",
    "plt.title('Training and validation loss')\n",
    "plt.legend()\n",
    "plt.show()"
   ]
  },
  {
   "cell_type": "markdown",
   "metadata": {},
   "source": [
    "### Adding a dropout layer to overcome the problem of overfitting.\n"
   ]
  },
  {
   "cell_type": "code",
   "execution_count": 20,
   "metadata": {},
   "outputs": [],
   "source": [
    "fashion_model = Sequential()\n",
    "fashion_model.add(Conv2D(32, kernel_size=(3, 3),activation='linear',padding='same',input_shape=(28,28,1)))\n",
    "fashion_model.add(LeakyReLU(alpha=0.1))\n",
    "fashion_model.add(MaxPooling2D((2, 2),padding='same'))\n",
    "fashion_model.add(Dropout(0.25))\n",
    "fashion_model.add(Conv2D(64, (3, 3), activation='linear',padding='same'))\n",
    "fashion_model.add(LeakyReLU(alpha=0.1))\n",
    "fashion_model.add(MaxPooling2D(pool_size=(2, 2),padding='same'))\n",
    "fashion_model.add(Dropout(0.25))\n",
    "fashion_model.add(Conv2D(128, (3, 3), activation='linear',padding='same'))\n",
    "fashion_model.add(LeakyReLU(alpha=0.1))                  \n",
    "fashion_model.add(MaxPooling2D(pool_size=(2, 2),padding='same'))\n",
    "fashion_model.add(Dropout(0.4))\n",
    "fashion_model.add(Flatten())\n",
    "fashion_model.add(Dense(128, activation='linear'))\n",
    "fashion_model.add(LeakyReLU(alpha=0.1))           \n",
    "fashion_model.add(Dropout(0.3))\n",
    "fashion_model.add(Dense(num_classes, activation='softmax'))"
   ]
  },
  {
   "cell_type": "code",
   "execution_count": 21,
   "metadata": {},
   "outputs": [
    {
     "name": "stdout",
     "output_type": "stream",
     "text": [
      "Model: \"sequential_2\"\n",
      "_________________________________________________________________\n",
      "Layer (type)                 Output Shape              Param #   \n",
      "=================================================================\n",
      "conv2d_4 (Conv2D)            (None, 28, 28, 32)        320       \n",
      "_________________________________________________________________\n",
      "leaky_re_lu_5 (LeakyReLU)    (None, 28, 28, 32)        0         \n",
      "_________________________________________________________________\n",
      "max_pooling2d_4 (MaxPooling2 (None, 14, 14, 32)        0         \n",
      "_________________________________________________________________\n",
      "dropout_1 (Dropout)          (None, 14, 14, 32)        0         \n",
      "_________________________________________________________________\n",
      "conv2d_5 (Conv2D)            (None, 14, 14, 64)        18496     \n",
      "_________________________________________________________________\n",
      "leaky_re_lu_6 (LeakyReLU)    (None, 14, 14, 64)        0         \n",
      "_________________________________________________________________\n",
      "max_pooling2d_5 (MaxPooling2 (None, 7, 7, 64)          0         \n",
      "_________________________________________________________________\n",
      "dropout_2 (Dropout)          (None, 7, 7, 64)          0         \n",
      "_________________________________________________________________\n",
      "conv2d_6 (Conv2D)            (None, 7, 7, 128)         73856     \n",
      "_________________________________________________________________\n",
      "leaky_re_lu_7 (LeakyReLU)    (None, 7, 7, 128)         0         \n",
      "_________________________________________________________________\n",
      "max_pooling2d_6 (MaxPooling2 (None, 4, 4, 128)         0         \n",
      "_________________________________________________________________\n",
      "dropout_3 (Dropout)          (None, 4, 4, 128)         0         \n",
      "_________________________________________________________________\n",
      "flatten_2 (Flatten)          (None, 2048)              0         \n",
      "_________________________________________________________________\n",
      "dense_3 (Dense)              (None, 128)               262272    \n",
      "_________________________________________________________________\n",
      "leaky_re_lu_8 (LeakyReLU)    (None, 128)               0         \n",
      "_________________________________________________________________\n",
      "dropout_4 (Dropout)          (None, 128)               0         \n",
      "_________________________________________________________________\n",
      "dense_4 (Dense)              (None, 10)                1290      \n",
      "=================================================================\n",
      "Total params: 356,234\n",
      "Trainable params: 356,234\n",
      "Non-trainable params: 0\n",
      "_________________________________________________________________\n"
     ]
    }
   ],
   "source": [
    "fashion_model.summary()"
   ]
  },
  {
   "cell_type": "code",
   "execution_count": 22,
   "metadata": {},
   "outputs": [],
   "source": [
    "fashion_model.compile(loss=keras.losses.categorical_crossentropy, optimizer=keras.optimizers.Adam(),metrics=['accuracy'])"
   ]
  },
  {
   "cell_type": "code",
   "execution_count": 23,
   "metadata": {},
   "outputs": [
    {
     "name": "stdout",
     "output_type": "stream",
     "text": [
      "Train on 48000 samples, validate on 12000 samples\n",
      "Epoch 1/15\n",
      "48000/48000 [==============================] - 132s 3ms/step - loss: 0.5897 - accuracy: 0.7823 - val_loss: 0.3593 - val_accuracy: 0.8702\n",
      "Epoch 2/15\n",
      "48000/48000 [==============================] - 128s 3ms/step - loss: 0.3714 - accuracy: 0.8638 - val_loss: 0.3052 - val_accuracy: 0.8887\n",
      "Epoch 3/15\n",
      "48000/48000 [==============================] - 127s 3ms/step - loss: 0.3249 - accuracy: 0.8809 - val_loss: 0.2743 - val_accuracy: 0.8982\n",
      "Epoch 4/15\n",
      "48000/48000 [==============================] - 129s 3ms/step - loss: 0.2988 - accuracy: 0.8915 - val_loss: 0.2589 - val_accuracy: 0.9042\n",
      "Epoch 5/15\n",
      "48000/48000 [==============================] - 135s 3ms/step - loss: 0.2822 - accuracy: 0.8956 - val_loss: 0.2558 - val_accuracy: 0.9042\n",
      "Epoch 6/15\n",
      "48000/48000 [==============================] - 128s 3ms/step - loss: 0.2670 - accuracy: 0.9011 - val_loss: 0.2366 - val_accuracy: 0.9147\n",
      "Epoch 7/15\n",
      "48000/48000 [==============================] - 128s 3ms/step - loss: 0.2559 - accuracy: 0.9059 - val_loss: 0.2536 - val_accuracy: 0.9084\n",
      "Epoch 8/15\n",
      "48000/48000 [==============================] - 127s 3ms/step - loss: 0.2486 - accuracy: 0.9065 - val_loss: 0.2253 - val_accuracy: 0.9179\n",
      "Epoch 9/15\n",
      "48000/48000 [==============================] - 129s 3ms/step - loss: 0.2382 - accuracy: 0.9113 - val_loss: 0.2233 - val_accuracy: 0.9185\n",
      "Epoch 10/15\n",
      "48000/48000 [==============================] - 128s 3ms/step - loss: 0.2311 - accuracy: 0.9135 - val_loss: 0.2210 - val_accuracy: 0.9186\n",
      "Epoch 11/15\n",
      "48000/48000 [==============================] - 126s 3ms/step - loss: 0.2243 - accuracy: 0.9157 - val_loss: 0.2193 - val_accuracy: 0.9240\n",
      "Epoch 12/15\n",
      "48000/48000 [==============================] - 128s 3ms/step - loss: 0.2223 - accuracy: 0.9182 - val_loss: 0.2141 - val_accuracy: 0.9217\n",
      "Epoch 13/15\n",
      "48000/48000 [==============================] - 129s 3ms/step - loss: 0.2190 - accuracy: 0.9172 - val_loss: 0.2173 - val_accuracy: 0.9215\n",
      "Epoch 14/15\n",
      "48000/48000 [==============================] - 127s 3ms/step - loss: 0.2127 - accuracy: 0.9191 - val_loss: 0.2304 - val_accuracy: 0.9164\n",
      "Epoch 15/15\n",
      "48000/48000 [==============================] - 130s 3ms/step - loss: 0.2095 - accuracy: 0.9210 - val_loss: 0.2100 - val_accuracy: 0.9258\n"
     ]
    }
   ],
   "source": [
    "fashion_train_dropout = fashion_model.fit(train_X, train_label, batch_size=64,epochs=15,verbose=1,validation_data=(valid_X, valid_label))"
   ]
  },
  {
   "cell_type": "markdown",
   "metadata": {},
   "source": [
    "**On adding Dropout in our model worked, even though the test accuracy did not improve significantly but the test loss decreased compared to the previous results.**"
   ]
  },
  {
   "cell_type": "code",
   "execution_count": 24,
   "metadata": {},
   "outputs": [
    {
     "name": "stdout",
     "output_type": "stream",
     "text": [
      "Test loss: 0.40563538425099105\n",
      "Test accuracy: 0.9182000160217285\n"
     ]
    }
   ],
   "source": [
    "print('Test loss:', test_eval[0])\n",
    "print('Test accuracy:', test_eval[1])"
   ]
  },
  {
   "cell_type": "code",
   "execution_count": 25,
   "metadata": {},
   "outputs": [
    {
     "data": {
      "image/png": "[encoded data removed]",
      "text/plain": [
       "<Figure size 432x288 with 1 Axes>"
      ]
     },
     "metadata": {
      "needs_background": "light"
     },
     "output_type": "display_data"
    },
    {
     "data": {
      "image/png": "[encoded data removed]",
      "text/plain": [
       "<Figure size 432x288 with 1 Axes>"
      ]
     },
     "metadata": {
      "needs_background": "light"
     },
     "output_type": "display_data"
    }
   ],
   "source": [
    "accuracy = fashion_train_dropout.history['accuracy']\n",
    "val_accuracy = fashion_train_dropout.history['val_accuracy']\n",
    "loss = fashion_train_dropout.history['loss']\n",
    "val_loss = fashion_train_dropout.history['val_loss']\n",
    "epochs = range(len(accuracy))\n",
    "plt.plot(epochs, accuracy, 'bo', label='Training accuracy')\n",
    "plt.plot(epochs, val_accuracy, 'b', label='Validation accuracy')\n",
    "plt.title('Training and validation accuracy')\n",
    "plt.legend()\n",
    "plt.figure()\n",
    "plt.plot(epochs, loss, 'bo', label='Training loss')\n",
    "plt.plot(epochs, val_loss, 'b', label='Validation loss')\n",
    "plt.title('Training and validation loss')\n",
    "plt.legend()\n",
    "plt.show()"
   ]
  },
  {
   "cell_type": "markdown",
   "metadata": {},
   "source": [
    "**Finally, you can see that the validation loss and validation accuracy both are in sync with the training loss and training accuracy. Even though the validation loss and accuracy line are not linear, but it shows that your model is not overfitting: the validation loss is decreasing and not increasing, and there is not much gap between training and validation accuracy.**"
   ]
  },
  {
   "cell_type": "code",
   "execution_count": 26,
   "metadata": {},
   "outputs": [
    {
     "name": "stdout",
     "output_type": "stream",
     "text": [
      "(10000,) (10000,)\n"
     ]
    }
   ],
   "source": [
    "predicted_classes = fashion_model.predict(test_X)\n",
    "predicted_classes = np.argmax(np.round(predicted_classes),axis=1)\n",
    "print(predicted_classes.shape, test_Y.shape)"
   ]
  },
  {
   "cell_type": "code",
   "execution_count": 27,
   "metadata": {},
   "outputs": [
    {
     "name": "stdout",
     "output_type": "stream",
     "text": [
      "Found 9135 correct labels\n"
     ]
    },
    {
     "data": {
      "image/png": "[encoded data removed]",
      "text/plain": [
       "<Figure size 432x288 with 9 Axes>"
      ]
     },
     "metadata": {
      "needs_background": "light"
     },
     "output_type": "display_data"
    }
   ],
   "source": [
    "correct = np.where(predicted_classes==test_Y)[0]\n",
    "print (\"Found %d correct labels\" % len(correct))\n",
    "for i, correct in enumerate(correct[:9]):\n",
    "    plt.subplot(3,3,i+1)\n",
    "    plt.imshow(test_X[correct].reshape(28,28), cmap='gray', interpolation='none')\n",
    "    plt.title(\"Predicted {}, Class {}\".format(predicted_classes[correct], test_Y[correct]))\n",
    "    plt.tight_layout()"
   ]
  },
  {
   "cell_type": "code",
   "execution_count": 28,
   "metadata": {},
   "outputs": [
    {
     "name": "stdout",
     "output_type": "stream",
     "text": [
      "Found 865 incorrect labels\n"
     ]
    },
    {
     "data": {
      "image/png": "[encoded data removed]",
      "text/plain": [
       "<Figure size 432x288 with 9 Axes>"
      ]
     },
     "metadata": {
      "needs_background": "light"
     },
     "output_type": "display_data"
    }
   ],
   "source": [
    "incorrect = np.where(predicted_classes!=test_Y)[0]\n",
    "print (\"Found %d incorrect labels\" % len(incorrect))\n",
    "for i, incorrect in enumerate(incorrect[:9]):\n",
    "    plt.subplot(3,3,i+1)\n",
    "    plt.imshow(test_X[incorrect].reshape(28,28), cmap='gray', interpolation='none')\n",
    "    plt.title(\"Predicted {}, Class {}\".format(predicted_classes[incorrect], test_Y[incorrect]))\n",
    "    plt.tight_layout()"
   ]
  },
  {
   "cell_type": "code",
   "execution_count": 29,
   "metadata": {},
   "outputs": [
    {
     "name": "stdout",
     "output_type": "stream",
     "text": [
      "              precision    recall  f1-score   support\n",
      "\n",
      "     Class 0       0.77      0.88      0.82      1000\n",
      "     Class 1       1.00      0.98      0.99      1000\n",
      "     Class 2       0.93      0.81      0.87      1000\n",
      "     Class 3       0.91      0.92      0.92      1000\n",
      "     Class 4       0.87      0.87      0.87      1000\n",
      "     Class 5       0.99      0.97      0.98      1000\n",
      "     Class 6       0.77      0.76      0.76      1000\n",
      "     Class 7       0.94      0.99      0.97      1000\n",
      "     Class 8       0.99      0.99      0.99      1000\n",
      "     Class 9       0.98      0.96      0.97      1000\n",
      "\n",
      "    accuracy                           0.91     10000\n",
      "   macro avg       0.92      0.91      0.91     10000\n",
      "weighted avg       0.92      0.91      0.91     10000\n",
      "\n"
     ]
    }
   ],
   "source": [
    "from sklearn.metrics import classification_report\n",
    "target_names = [\"Class {}\".format(i) for i in range(num_classes)]\n",
    "print(classification_report(test_Y, predicted_classes, target_names=target_names))"
   ]
  },
  {
   "cell_type": "markdown",
   "metadata": {},
   "source": [
    "**The classifier is underperforming for class 6 regarding both precision and recall. For class 0 and class 2, the classifier is lacking precision. Also, for class 4, the classifier is slightly lacking both precision and recall.**\n"
   ]
  },
  {
   "cell_type": "code",
   "execution_count": 30,
   "metadata": {},
   "outputs": [
    {
     "data": {
      "text/html": [
       "<div>\n",
       "<style scoped>\n",
       "    .dataframe tbody tr th:only-of-type {\n",
       "        vertical-align: middle;\n",
       "    }\n",
       "\n",
       "    .dataframe tbody tr th {\n",
       "        vertical-align: top;\n",
       "    }\n",
       "\n",
       "    .dataframe thead th {\n",
       "        text-align: right;\n",
       "    }\n",
       "</style>\n",
       "<table border=\"1\" class=\"dataframe\">\n",
       "  <thead>\n",
       "    <tr style=\"text-align: right;\">\n",
       "      <th></th>\n",
       "      <th>top</th>\n",
       "      <th>trouser</th>\n",
       "      <th>pullover</th>\n",
       "      <th>dress</th>\n",
       "      <th>coat</th>\n",
       "      <th>sandal</th>\n",
       "      <th>shirt</th>\n",
       "      <th>sneaker</th>\n",
       "      <th>bag</th>\n",
       "      <th>ankle boot</th>\n",
       "    </tr>\n",
       "  </thead>\n",
       "  <tbody>\n",
       "    <tr>\n",
       "      <th>top</th>\n",
       "      <td>880</td>\n",
       "      <td>0</td>\n",
       "      <td>6</td>\n",
       "      <td>15</td>\n",
       "      <td>1</td>\n",
       "      <td>1</td>\n",
       "      <td>89</td>\n",
       "      <td>0</td>\n",
       "      <td>8</td>\n",
       "      <td>0</td>\n",
       "    </tr>\n",
       "    <tr>\n",
       "      <th>trouser</th>\n",
       "      <td>3</td>\n",
       "      <td>984</td>\n",
       "      <td>0</td>\n",
       "      <td>8</td>\n",
       "      <td>2</td>\n",
       "      <td>0</td>\n",
       "      <td>1</td>\n",
       "      <td>0</td>\n",
       "      <td>2</td>\n",
       "      <td>0</td>\n",
       "    </tr>\n",
       "    <tr>\n",
       "      <th>pullover</th>\n",
       "      <td>67</td>\n",
       "      <td>1</td>\n",
       "      <td>811</td>\n",
       "      <td>6</td>\n",
       "      <td>52</td>\n",
       "      <td>0</td>\n",
       "      <td>63</td>\n",
       "      <td>0</td>\n",
       "      <td>0</td>\n",
       "      <td>0</td>\n",
       "    </tr>\n",
       "    <tr>\n",
       "      <th>dress</th>\n",
       "      <td>33</td>\n",
       "      <td>2</td>\n",
       "      <td>6</td>\n",
       "      <td>924</td>\n",
       "      <td>10</td>\n",
       "      <td>0</td>\n",
       "      <td>25</td>\n",
       "      <td>0</td>\n",
       "      <td>0</td>\n",
       "      <td>0</td>\n",
       "    </tr>\n",
       "    <tr>\n",
       "      <th>coat</th>\n",
       "      <td>23</td>\n",
       "      <td>0</td>\n",
       "      <td>23</td>\n",
       "      <td>30</td>\n",
       "      <td>872</td>\n",
       "      <td>0</td>\n",
       "      <td>52</td>\n",
       "      <td>0</td>\n",
       "      <td>0</td>\n",
       "      <td>0</td>\n",
       "    </tr>\n",
       "    <tr>\n",
       "      <th>sandal</th>\n",
       "      <td>1</td>\n",
       "      <td>0</td>\n",
       "      <td>0</td>\n",
       "      <td>0</td>\n",
       "      <td>0</td>\n",
       "      <td>973</td>\n",
       "      <td>0</td>\n",
       "      <td>21</td>\n",
       "      <td>0</td>\n",
       "      <td>5</td>\n",
       "    </tr>\n",
       "    <tr>\n",
       "      <th>shirt</th>\n",
       "      <td>123</td>\n",
       "      <td>0</td>\n",
       "      <td>28</td>\n",
       "      <td>25</td>\n",
       "      <td>62</td>\n",
       "      <td>0</td>\n",
       "      <td>757</td>\n",
       "      <td>0</td>\n",
       "      <td>5</td>\n",
       "      <td>0</td>\n",
       "    </tr>\n",
       "    <tr>\n",
       "      <th>sneaker</th>\n",
       "      <td>0</td>\n",
       "      <td>0</td>\n",
       "      <td>0</td>\n",
       "      <td>0</td>\n",
       "      <td>0</td>\n",
       "      <td>1</td>\n",
       "      <td>0</td>\n",
       "      <td>988</td>\n",
       "      <td>0</td>\n",
       "      <td>11</td>\n",
       "    </tr>\n",
       "    <tr>\n",
       "      <th>bag</th>\n",
       "      <td>6</td>\n",
       "      <td>1</td>\n",
       "      <td>0</td>\n",
       "      <td>4</td>\n",
       "      <td>0</td>\n",
       "      <td>1</td>\n",
       "      <td>1</td>\n",
       "      <td>0</td>\n",
       "      <td>987</td>\n",
       "      <td>0</td>\n",
       "    </tr>\n",
       "    <tr>\n",
       "      <th>ankle boot</th>\n",
       "      <td>1</td>\n",
       "      <td>0</td>\n",
       "      <td>0</td>\n",
       "      <td>0</td>\n",
       "      <td>0</td>\n",
       "      <td>3</td>\n",
       "      <td>0</td>\n",
       "      <td>37</td>\n",
       "      <td>0</td>\n",
       "      <td>959</td>\n",
       "    </tr>\n",
       "  </tbody>\n",
       "</table>\n",
       "</div>"
      ],
      "text/plain": [
       "            top  trouser  pullover  dress  coat  sandal  shirt  sneaker  bag  \\\n",
       "top         880        0         6     15     1       1     89        0    8   \n",
       "trouser       3      984         0      8     2       0      1        0    2   \n",
       "pullover     67        1       811      6    52       0     63        0    0   \n",
       "dress        33        2         6    924    10       0     25        0    0   \n",
       "coat         23        0        23     30   872       0     52        0    0   \n",
       "sandal        1        0         0      0     0     973      0       21    0   \n",
       "shirt       123        0        28     25    62       0    757        0    5   \n",
       "sneaker       0        0         0      0     0       1      0      988    0   \n",
       "bag           6        1         0      4     0       1      1        0  987   \n",
       "ankle boot    1        0         0      0     0       3      0       37    0   \n",
       "\n",
       "            ankle boot  \n",
       "top                  0  \n",
       "trouser              0  \n",
       "pullover             0  \n",
       "dress                0  \n",
       "coat                 0  \n",
       "sandal               5  \n",
       "shirt                0  \n",
       "sneaker             11  \n",
       "bag                  0  \n",
       "ankle boot         959  "
      ]
     },
     "execution_count": 30,
     "metadata": {},
     "output_type": "execute_result"
    }
   ],
   "source": [
    "from sklearn.metrics import confusion_matrix\n",
    "\n",
    "label = [\"top\", \"trouser\", \"pullover\", \"dress\", \"coat\", \"sandal\", \"shirt\", \"sneaker\", \"bag\", \"ankle boot\"]\n",
    "confusion_matrix= pd.DataFrame(confusion_matrix(test_Y, predicted_classes), columns = label, index = label)\n",
    "confusion_matrix"
   ]
  },
  {
   "cell_type": "code",
   "execution_count": 31,
   "metadata": {},
   "outputs": [
    {
     "data": {
      "text/plain": [
       "<matplotlib.axes._subplots.AxesSubplot at 0x20005c05d48>"
      ]
     },
     "execution_count": 31,
     "metadata": {},
     "output_type": "execute_result"
    },
    {
     "data": {
      "image/png": "[encoded data removed]",
      "text/plain": [
       "<Figure size 720x720 with 2 Axes>"
      ]
     },
     "metadata": {
      "needs_background": "light"
     },
     "output_type": "display_data"
    }
   ],
   "source": [
    "import seaborn as sn\n",
    "import pandas as pd\n",
    "import matplotlib.pyplot as plt\n",
    "from matplotlib.ticker import FormatStrFormatter\n",
    "\n",
    "plt.figure(figsize = (10,10))\n",
    "sn.heatmap(confusion_matrix, annot=True, cmap='Blues')"
   ]
  },
  {
   "cell_type": "markdown",
   "metadata": {},
   "source": [
    "# Part 2"
   ]
  },
  {
   "cell_type": "code",
   "execution_count": 95,
   "metadata": {},
   "outputs": [
    {
     "data": {
      "text/html": [
       "<div>\n",
       "<style scoped>\n",
       "    .dataframe tbody tr th:only-of-type {\n",
       "        vertical-align: middle;\n",
       "    }\n",
       "\n",
       "    .dataframe tbody tr th {\n",
       "        vertical-align: top;\n",
       "    }\n",
       "\n",
       "    .dataframe thead th {\n",
       "        text-align: right;\n",
       "    }\n",
       "</style>\n",
       "<table border=\"1\" class=\"dataframe\">\n",
       "  <thead>\n",
       "    <tr style=\"text-align: right;\">\n",
       "      <th></th>\n",
       "      <th>ExpStartDate</th>\n",
       "      <th>AdmittedNum</th>\n",
       "      <th>AppliedNum</th>\n",
       "      <th>WeeksBeforeStart</th>\n",
       "      <th>Budget</th>\n",
       "    </tr>\n",
       "  </thead>\n",
       "  <tbody>\n",
       "    <tr>\n",
       "      <th>0</th>\n",
       "      <td>10/29/2018</td>\n",
       "      <td>3</td>\n",
       "      <td>61</td>\n",
       "      <td>10</td>\n",
       "      <td>87</td>\n",
       "    </tr>\n",
       "    <tr>\n",
       "      <th>1</th>\n",
       "      <td>10/29/2018</td>\n",
       "      <td>7</td>\n",
       "      <td>84</td>\n",
       "      <td>9</td>\n",
       "      <td>87</td>\n",
       "    </tr>\n",
       "    <tr>\n",
       "      <th>2</th>\n",
       "      <td>10/29/2018</td>\n",
       "      <td>10</td>\n",
       "      <td>90</td>\n",
       "      <td>8</td>\n",
       "      <td>87</td>\n",
       "    </tr>\n",
       "    <tr>\n",
       "      <th>3</th>\n",
       "      <td>10/29/2018</td>\n",
       "      <td>24</td>\n",
       "      <td>118</td>\n",
       "      <td>7</td>\n",
       "      <td>87</td>\n",
       "    </tr>\n",
       "    <tr>\n",
       "      <th>4</th>\n",
       "      <td>10/29/2018</td>\n",
       "      <td>39</td>\n",
       "      <td>132</td>\n",
       "      <td>6</td>\n",
       "      <td>87</td>\n",
       "    </tr>\n",
       "    <tr>\n",
       "      <th>5</th>\n",
       "      <td>10/29/2018</td>\n",
       "      <td>54</td>\n",
       "      <td>131</td>\n",
       "      <td>5</td>\n",
       "      <td>87</td>\n",
       "    </tr>\n",
       "    <tr>\n",
       "      <th>6</th>\n",
       "      <td>10/29/2018</td>\n",
       "      <td>66</td>\n",
       "      <td>138</td>\n",
       "      <td>4</td>\n",
       "      <td>87</td>\n",
       "    </tr>\n",
       "    <tr>\n",
       "      <th>7</th>\n",
       "      <td>10/29/2018</td>\n",
       "      <td>77</td>\n",
       "      <td>126</td>\n",
       "      <td>3</td>\n",
       "      <td>87</td>\n",
       "    </tr>\n",
       "    <tr>\n",
       "      <th>8</th>\n",
       "      <td>10/29/2018</td>\n",
       "      <td>83</td>\n",
       "      <td>117</td>\n",
       "      <td>2</td>\n",
       "      <td>87</td>\n",
       "    </tr>\n",
       "    <tr>\n",
       "      <th>9</th>\n",
       "      <td>1/21/2019</td>\n",
       "      <td>0</td>\n",
       "      <td>7</td>\n",
       "      <td>19</td>\n",
       "      <td>150</td>\n",
       "    </tr>\n",
       "  </tbody>\n",
       "</table>\n",
       "</div>"
      ],
      "text/plain": [
       "  ExpStartDate  AdmittedNum  AppliedNum  WeeksBeforeStart  Budget\n",
       "0   10/29/2018            3          61                10      87\n",
       "1   10/29/2018            7          84                 9      87\n",
       "2   10/29/2018           10          90                 8      87\n",
       "3   10/29/2018           24         118                 7      87\n",
       "4   10/29/2018           39         132                 6      87\n",
       "5   10/29/2018           54         131                 5      87\n",
       "6   10/29/2018           66         138                 4      87\n",
       "7   10/29/2018           77         126                 3      87\n",
       "8   10/29/2018           83         117                 2      87\n",
       "9    1/21/2019            0           7                19     150"
      ]
     },
     "execution_count": 95,
     "metadata": {},
     "output_type": "execute_result"
    }
   ],
   "source": [
    "#importing the datasets\n",
    "import pandas as pd\n",
    "mydata = pd.read_csv('admData20.csv')\n",
    "mydata.head(n = 10)"
   ]
  },
  {
   "cell_type": "markdown",
   "metadata": {},
   "source": [
    "### Part A:  Create a Recurrent Neural Network model. Explore both GRU and LSTM layers."
   ]
  },
  {
   "cell_type": "code",
   "execution_count": 96,
   "metadata": {},
   "outputs": [],
   "source": [
    "new = mydata"
   ]
  },
  {
   "cell_type": "code",
   "execution_count": 97,
   "metadata": {},
   "outputs": [
    {
     "data": {
      "image/png": "[encoded data removed]",
      "text/plain": [
       "<Figure size 432x288 with 1 Axes>"
      ]
     },
     "metadata": {
      "needs_background": "light"
     },
     "output_type": "display_data"
    }
   ],
   "source": [
    "plt.plot(range(new.shape[0]), (new['AdmittedNum']), color = 'r')\n",
    "plt.plot(range(new.shape[0]), (new['AppliedNum']), color = 'b')\n",
    "plt.xticks(range(0, new.shape[0], 60), new['ExpStartDate'].loc[::60], rotation = 60)\n",
    "plt.xlabel('Date', fontsize = 18)\n",
    "plt.ylabel('Price', fontsize = 18)\n",
    "plt.show()"
   ]
  },
  {
   "cell_type": "code",
   "execution_count": 98,
   "metadata": {},
   "outputs": [
    {
     "data": {
      "text/plain": [
       "array([ 3,  7, 10, 24, 39, 54, 66, 77, 83,  0], dtype=int64)"
      ]
     },
     "execution_count": 98,
     "metadata": {},
     "output_type": "execute_result"
    }
   ],
   "source": [
    "addmit = new.loc[:,'AdmittedNum'].values\n",
    "addmit[:10]"
   ]
  },
  {
   "cell_type": "code",
   "execution_count": 99,
   "metadata": {},
   "outputs": [],
   "source": [
    "trainPortion = round(addmit.shape[0]*0.7)\n",
    "valPortion = round(addmit.shape[0]*0.15)\n",
    "trainData = addmit[:trainPortion]\n",
    "valData = addmit[trainPortion:trainPortion+valPortion]\n",
    "testData = addmit[trainPortion+valPortion:]"
   ]
  },
  {
   "cell_type": "code",
   "execution_count": 100,
   "metadata": {},
   "outputs": [
    {
     "data": {
      "text/plain": [
       "((103,), (22,))"
      ]
     },
     "execution_count": 100,
     "metadata": {},
     "output_type": "execute_result"
    }
   ],
   "source": [
    "trainData.shape, testData.shape"
   ]
  },
  {
   "cell_type": "code",
   "execution_count": 101,
   "metadata": {},
   "outputs": [
    {
     "data": {
      "image/png": "[encoded data removed]",
      "text/plain": [
       "<Figure size 720x720 with 3 Axes>"
      ]
     },
     "metadata": {
      "needs_background": "light"
     },
     "output_type": "display_data"
    }
   ],
   "source": [
    "#subplot with training data\n",
    "plt.figure(figsize=[10,10])\n",
    "\n",
    "#subplot with training data\n",
    "plt.subplot(1,3,1)\n",
    "plt.plot(range(trainData.shape[0]), trainData, color = 'green', label = 'Training split')\n",
    "plt.title('Train data')\n",
    "plt.xlabel('Time')\n",
    "plt.ylabel('Price')\n",
    "plt.legend()\n",
    "\n",
    "plt.subplot(1,3,2)\n",
    "plt.plot(range(valData.shape[0]), valData, color = 'purple', label = 'Validation split')\n",
    "plt.title('Val data')\n",
    "plt.xlabel('Time')\n",
    "plt.ylabel('Price')\n",
    "plt.legend()\n",
    "\n",
    "plt.subplot(1,3,3)\n",
    "plt.plot(range(testData.shape[0]), testData, color = 'red', label = 'Test split')\n",
    "plt.title('Test data')\n",
    "plt.xlabel('Time')\n",
    "plt.ylabel('Price')\n",
    "plt.legend()\n",
    "plt.show()"
   ]
  },
  {
   "cell_type": "code",
   "execution_count": 102,
   "metadata": {},
   "outputs": [
    {
     "name": "stdout",
     "output_type": "stream",
     "text": [
      "(103,)\n",
      "(103, 1)\n"
     ]
    }
   ],
   "source": [
    "#Normalize\n",
    "from sklearn.preprocessing import MinMaxScaler\n",
    "sc = MinMaxScaler(feature_range = (0,1))\n",
    "print(trainData.shape)\n",
    "trainData = trainData.reshape(-1,1)\n",
    "print(trainData.shape)"
   ]
  },
  {
   "cell_type": "code",
   "execution_count": 103,
   "metadata": {},
   "outputs": [],
   "source": [
    "valData = valData.reshape(-1,1)\n",
    "testData = testData.reshape(-1,1)"
   ]
  },
  {
   "cell_type": "code",
   "execution_count": 104,
   "metadata": {},
   "outputs": [],
   "source": [
    "sc.fit(trainData)\n",
    "trainNorm = sc.transform(trainData)\n",
    "valNorm = sc.transform(valData)\n",
    "testNorm = sc.transform(testData)"
   ]
  },
  {
   "cell_type": "code",
   "execution_count": 105,
   "metadata": {},
   "outputs": [
    {
     "data": {
      "text/plain": [
       "((103, 1), (22, 1))"
      ]
     },
     "execution_count": 105,
     "metadata": {},
     "output_type": "execute_result"
    }
   ],
   "source": [
    "trainNorm.shape, testNorm.shape"
   ]
  },
  {
   "cell_type": "code",
   "execution_count": 106,
   "metadata": {},
   "outputs": [],
   "source": [
    "#create sequece\n",
    "def createSeq(dataset, look_back = 6, foresight = 2):\n",
    "    X,Y = [],[]\n",
    "    for i in range(len(dataset)-look_back-foresight):\n",
    "        obs = dataset[i:(i+look_back),0]\n",
    "        X.append(obs)\n",
    "        Y.append(dataset[i+(look_back+foresight),0])\n",
    "    return np.array(X), np.array(Y)"
   ]
  },
  {
   "cell_type": "code",
   "execution_count": 107,
   "metadata": {},
   "outputs": [],
   "source": [
    "#Sequences\n",
    "trainNormX, trainNormY = createSeq(trainNorm, look_back = 6, foresight = 2)"
   ]
  },
  {
   "cell_type": "code",
   "execution_count": 108,
   "metadata": {},
   "outputs": [],
   "source": [
    "valNormX, valNormY = createSeq(valNorm, look_back = 6, foresight = 2)\n",
    "testNormX, testNormY = createSeq(testNorm, look_back = 6, foresight = 2)"
   ]
  },
  {
   "cell_type": "code",
   "execution_count": 109,
   "metadata": {},
   "outputs": [
    {
     "name": "stdout",
     "output_type": "stream",
     "text": [
      "(95, 6) (14, 6) (14, 6)\n"
     ]
    }
   ],
   "source": [
    "print(trainNormX.shape,valNormX.shape,testNormX.shape)"
   ]
  },
  {
   "cell_type": "code",
   "execution_count": 110,
   "metadata": {},
   "outputs": [
    {
     "name": "stdout",
     "output_type": "stream",
     "text": [
      "(95, 6, 1) (14, 6, 1) (14, 6, 1)\n"
     ]
    }
   ],
   "source": [
    "#Reshape for Keras layers\n",
    "#3d tensor of (nb_samples, look_back, num_features)\n",
    "trainNormX = np.reshape(trainNormX, (trainNormX.shape[0], trainNormX.shape[1],1))\n",
    "valNormX = np.reshape(valNormX, (valNormX.shape[0], valNormX.shape[1],1))\n",
    "testNormX = np.reshape(testNormX, (testNormX.shape[0], testNormX.shape[1],1))\n",
    "print(trainNormX.shape,valNormX.shape,testNormX.shape)"
   ]
  },
  {
   "cell_type": "code",
   "execution_count": 111,
   "metadata": {},
   "outputs": [],
   "source": [
    "from keras.models import Sequential\n",
    "from keras.layers import LSTM, GRU, Dense\n",
    "from keras.layers import Dropout, Flatten\n",
    "from keras.callbacks import ModelCheckpoint, EarlyStopping"
   ]
  },
  {
   "cell_type": "code",
   "execution_count": 112,
   "metadata": {},
   "outputs": [
    {
     "name": "stdout",
     "output_type": "stream",
     "text": [
      "Model: \"sequential_7\"\n",
      "_________________________________________________________________\n",
      "Layer (type)                 Output Shape              Param #   \n",
      "=================================================================\n",
      "lstm_3 (LSTM)                (None, 32)                4352      \n",
      "_________________________________________________________________\n",
      "dense_12 (Dense)             (None, 1)                 33        \n",
      "=================================================================\n",
      "Total params: 4,385\n",
      "Trainable params: 4,385\n",
      "Non-trainable params: 0\n",
      "_________________________________________________________________\n"
     ]
    }
   ],
   "source": [
    "model = Sequential()\n",
    "model.add(LSTM(32, input_shape=(6,1), dropout=0.1, recurrent_dropout=0.1))\n",
    "model.add(Dense(1, activation = 'linear'))\n",
    "model.compile(loss='mae', optimizer = 'adam', metrics = ['mean_absolute_error'])\n",
    "model.summary()"
   ]
  },
  {
   "cell_type": "markdown",
   "metadata": {},
   "source": [
    "### LSTM model"
   ]
  },
  {
   "cell_type": "code",
   "execution_count": 113,
   "metadata": {},
   "outputs": [
    {
     "name": "stdout",
     "output_type": "stream",
     "text": [
      "Train on 95 samples, validate on 14 samples\n",
      "Epoch 1/10\n",
      "95/95 [==============================] - 1s 10ms/step - loss: 0.2104 - mean_absolute_error: 0.2104 - val_loss: 0.2018 - val_mean_absolute_error: 0.2018\n",
      "Epoch 2/10\n",
      "95/95 [==============================] - 0s 167us/step - loss: 0.1986 - mean_absolute_error: 0.1986 - val_loss: 0.2072 - val_mean_absolute_error: 0.2072\n",
      "Epoch 3/10\n",
      "95/95 [==============================] - 0s 129us/step - loss: 0.1957 - mean_absolute_error: 0.1957 - val_loss: 0.2121 - val_mean_absolute_error: 0.2121\n",
      "Epoch 4/10\n",
      "95/95 [==============================] - 0s 137us/step - loss: 0.1926 - mean_absolute_error: 0.1926 - val_loss: 0.2159 - val_mean_absolute_error: 0.2159\n",
      "Epoch 5/10\n",
      "95/95 [==============================] - 0s 139us/step - loss: 0.1924 - mean_absolute_error: 0.1924 - val_loss: 0.2191 - val_mean_absolute_error: 0.2191\n",
      "Epoch 6/10\n",
      "95/95 [==============================] - 0s 167us/step - loss: 0.1914 - mean_absolute_error: 0.1914 - val_loss: 0.2213 - val_mean_absolute_error: 0.2213\n",
      "Epoch 7/10\n",
      "95/95 [==============================] - 0s 155us/step - loss: 0.1882 - mean_absolute_error: 0.1882 - val_loss: 0.2227 - val_mean_absolute_error: 0.2227\n",
      "Epoch 8/10\n",
      "95/95 [==============================] - 0s 120us/step - loss: 0.1871 - mean_absolute_error: 0.1871 - val_loss: 0.2233 - val_mean_absolute_error: 0.2233\n",
      "Epoch 9/10\n",
      "95/95 [==============================] - 0s 166us/step - loss: 0.1859 - mean_absolute_error: 0.1859 - val_loss: 0.2229 - val_mean_absolute_error: 0.2229\n",
      "Epoch 10/10\n",
      "95/95 [==============================] - 0s 147us/step - loss: 0.1835 - mean_absolute_error: 0.1835 - val_loss: 0.2220 - val_mean_absolute_error: 0.2220\n"
     ]
    }
   ],
   "source": [
    "network_name='lstm'\n",
    "filepath = network_name+ \"_epoch-{epoch:02d}-loss-{loss:0.4f}-.hdf5\"\n",
    "checkpoint = ModelCheckpoint(filepath, monitor = 'loss', verbose=0, save_best_only=True, mode = 'min')\n",
    "callbacks_list = [checkpoint]\n",
    "network = model.fit(trainNormX, trainNormY, validation_data =(valNormX, valNormY), epochs = 10, batch_size=64,\n",
    "                   callbacks = callbacks_list)"
   ]
  },
  {
   "cell_type": "code",
   "execution_count": 114,
   "metadata": {},
   "outputs": [
    {
     "name": "stdout",
     "output_type": "stream",
     "text": [
      "Min is  0.18349418 at the index 9\n"
     ]
    }
   ],
   "source": [
    "print('Min is ',min(np.array(network.history['mean_absolute_error'])), 'at the index', np.array(network.history['mean_absolute_error']).argmin())"
   ]
  },
  {
   "cell_type": "code",
   "execution_count": 115,
   "metadata": {},
   "outputs": [
    {
     "name": "stdout",
     "output_type": "stream",
     "text": [
      "14/14 [==============================] - 0s 81us/step\n",
      "mean_absolute_error on test is 0.08871124684810638\n"
     ]
    }
   ],
   "source": [
    "score1 = model.evaluate(testNormX,testNormY)\n",
    "print(model.metrics_names[1],'on test is',score1[1])"
   ]
  },
  {
   "cell_type": "code",
   "execution_count": 116,
   "metadata": {},
   "outputs": [
    {
     "data": {
      "image/png": "[encoded data removed]",
      "text/plain": [
       "<Figure size 432x288 with 1 Axes>"
      ]
     },
     "metadata": {
      "needs_background": "light"
     },
     "output_type": "display_data"
    }
   ],
   "source": [
    "#Error plot for simple LSTM\n",
    "plt.plot(network.history['loss'], label = 'loss')\n",
    "plt.plot(network.history['val_loss'], label = 'val_loss')\n",
    "plt.legend()\n",
    "plt.show()"
   ]
  },
  {
   "cell_type": "markdown",
   "metadata": {},
   "source": [
    "### GRU model"
   ]
  },
  {
   "cell_type": "code",
   "execution_count": 117,
   "metadata": {},
   "outputs": [
    {
     "name": "stdout",
     "output_type": "stream",
     "text": [
      "Train on 95 samples, validate on 14 samples\n",
      "Epoch 1/10\n",
      "95/95 [==============================] - 0s 134us/step - loss: 0.1819 - mean_absolute_error: 0.1819 - val_loss: 0.2208 - val_mean_absolute_error: 0.2208\n",
      "Epoch 2/10\n",
      "95/95 [==============================] - 0s 114us/step - loss: 0.1800 - mean_absolute_error: 0.1800 - val_loss: 0.2190 - val_mean_absolute_error: 0.2190\n",
      "Epoch 3/10\n",
      "95/95 [==============================] - 0s 163us/step - loss: 0.1780 - mean_absolute_error: 0.1780 - val_loss: 0.2174 - val_mean_absolute_error: 0.2174\n",
      "Epoch 4/10\n",
      "95/95 [==============================] - 0s 145us/step - loss: 0.1768 - mean_absolute_error: 0.1768 - val_loss: 0.2160 - val_mean_absolute_error: 0.2160\n",
      "Epoch 5/10\n",
      "95/95 [==============================] - 0s 141us/step - loss: 0.1750 - mean_absolute_error: 0.1750 - val_loss: 0.2142 - val_mean_absolute_error: 0.2142\n",
      "Epoch 6/10\n",
      "95/95 [==============================] - 0s 146us/step - loss: 0.1739 - mean_absolute_error: 0.1739 - val_loss: 0.2122 - val_mean_absolute_error: 0.2122\n",
      "Epoch 7/10\n",
      "95/95 [==============================] - 0s 175us/step - loss: 0.1740 - mean_absolute_error: 0.1740 - val_loss: 0.2110 - val_mean_absolute_error: 0.2110\n",
      "Epoch 8/10\n",
      "95/95 [==============================] - 0s 192us/step - loss: 0.1725 - mean_absolute_error: 0.1725 - val_loss: 0.2104 - val_mean_absolute_error: 0.2104\n",
      "Epoch 9/10\n",
      "95/95 [==============================] - 0s 104us/step - loss: 0.1705 - mean_absolute_error: 0.1705 - val_loss: 0.2105 - val_mean_absolute_error: 0.2105\n",
      "Epoch 10/10\n",
      "95/95 [==============================] - 0s 143us/step - loss: 0.1726 - mean_absolute_error: 0.1726 - val_loss: 0.2110 - val_mean_absolute_error: 0.2110\n"
     ]
    }
   ],
   "source": [
    "network_name_g='GRU'\n",
    "filepath_g = network_name_g+ \"_epoch-{epoch:02d}-loss-{loss:0.4f}-.hdf5\"\n",
    "checkpoint_g = ModelCheckpoint(filepath_g, monitor = 'loss', verbose=0, save_best_only=True, mode = 'min')\n",
    "callbacks_list_g = [checkpoint_g]\n",
    "network = model.fit(trainNormX, trainNormY, validation_data =(valNormX, valNormY), epochs = 10, batch_size=64,\n",
    "                   callbacks = callbacks_list_g)"
   ]
  },
  {
   "cell_type": "code",
   "execution_count": 118,
   "metadata": {},
   "outputs": [
    {
     "name": "stdout",
     "output_type": "stream",
     "text": [
      "Min is  0.17051154 at the index 8\n"
     ]
    }
   ],
   "source": [
    "print('Min is ',min(np.array(network.history['mean_absolute_error'])), 'at the index', np.array(network.history['mean_absolute_error']).argmin())"
   ]
  },
  {
   "cell_type": "code",
   "execution_count": 119,
   "metadata": {},
   "outputs": [
    {
     "name": "stdout",
     "output_type": "stream",
     "text": [
      "14/14 [==============================] - 0s 163us/step\n",
      "mean_absolute_error on test is 0.12733416259288788\n"
     ]
    }
   ],
   "source": [
    "score2 = model.evaluate(testNormX,testNormY)\n",
    "print(model.metrics_names[1],'on test is',score2[1])"
   ]
  },
  {
   "cell_type": "code",
   "execution_count": 120,
   "metadata": {},
   "outputs": [
    {
     "data": {
      "image/png": "[encoded data removed]",
      "text/plain": [
       "<Figure size 432x288 with 1 Axes>"
      ]
     },
     "metadata": {
      "needs_background": "light"
     },
     "output_type": "display_data"
    }
   ],
   "source": [
    "#Error plot for simple LSTM\n",
    "plt.plot(network.history['loss'], label = 'loss')\n",
    "plt.plot(network.history['val_loss'], label = 'val_loss')\n",
    "plt.legend()\n",
    "plt.show()"
   ]
  },
  {
   "cell_type": "markdown",
   "metadata": {},
   "source": [
    "### Part B: 1d Convolutional Neural Network"
   ]
  },
  {
   "cell_type": "code",
   "execution_count": 121,
   "metadata": {},
   "outputs": [],
   "source": [
    "#Building the CNN model\n",
    "model1 = models.Sequential()\n",
    "model1.add(layers.Conv1D(filters = 32, kernel_size = 6, activation = 'relu', input_shape = (6,1)))\n",
    "model1.add(layers.Conv1D(filters = 64, kernel_size = 1, activation = 'relu'))\n",
    "#model.add(layers.MaxPool1D(pool_size = 2))\n",
    "#model.add(layers.Conv1D(filters = 64, kernel_size = 1, activation = 'relu'))\n",
    "#model.add(layers.MaxPool1D(pool_size = 2))\n",
    "#Flatten 3D outputs to 1D and add Dense layer \n",
    "model1.add(layers.Flatten())\n",
    "#model.add(layers.Dense(units=64, activation = 'relu'))\n",
    "model1.add(layers.Dense(units=1, activation = 'linear'))"
   ]
  },
  {
   "cell_type": "code",
   "execution_count": 122,
   "metadata": {},
   "outputs": [
    {
     "name": "stdout",
     "output_type": "stream",
     "text": [
      "Model: \"sequential_8\"\n",
      "_________________________________________________________________\n",
      "Layer (type)                 Output Shape              Param #   \n",
      "=================================================================\n",
      "conv1d_3 (Conv1D)            (None, 1, 32)             224       \n",
      "_________________________________________________________________\n",
      "conv1d_4 (Conv1D)            (None, 1, 64)             2112      \n",
      "_________________________________________________________________\n",
      "flatten_4 (Flatten)          (None, 64)                0         \n",
      "_________________________________________________________________\n",
      "dense_13 (Dense)             (None, 1)                 65        \n",
      "=================================================================\n",
      "Total params: 2,401\n",
      "Trainable params: 2,401\n",
      "Non-trainable params: 0\n",
      "_________________________________________________________________\n"
     ]
    }
   ],
   "source": [
    "model1.compile(loss='mae', optimizer = 'adam', metrics = ['mean_absolute_error'])\n",
    "model1.summary()"
   ]
  },
  {
   "cell_type": "code",
   "execution_count": 123,
   "metadata": {},
   "outputs": [
    {
     "name": "stdout",
     "output_type": "stream",
     "text": [
      "Train on 95 samples, validate on 14 samples\n",
      "Epoch 1/10\n",
      "95/95 [==============================] - 0s 2ms/step - loss: 0.2041 - mean_absolute_error: 0.2041 - val_loss: 0.2103 - val_mean_absolute_error: 0.2103\n",
      "Epoch 2/10\n",
      "95/95 [==============================] - 0s 71us/step - loss: 0.1988 - mean_absolute_error: 0.1988 - val_loss: 0.2100 - val_mean_absolute_error: 0.2100\n",
      "Epoch 3/10\n",
      "95/95 [==============================] - 0s 138us/step - loss: 0.1941 - mean_absolute_error: 0.1941 - val_loss: 0.2082 - val_mean_absolute_error: 0.2082\n",
      "Epoch 4/10\n",
      "95/95 [==============================] - 0s 84us/step - loss: 0.1896 - mean_absolute_error: 0.1896 - val_loss: 0.2072 - val_mean_absolute_error: 0.2072\n",
      "Epoch 5/10\n",
      "95/95 [==============================] - 0s 110us/step - loss: 0.1855 - mean_absolute_error: 0.1855 - val_loss: 0.2064 - val_mean_absolute_error: 0.2064\n",
      "Epoch 6/10\n",
      "95/95 [==============================] - 0s 89us/step - loss: 0.1814 - mean_absolute_error: 0.1814 - val_loss: 0.2063 - val_mean_absolute_error: 0.2063\n",
      "Epoch 7/10\n",
      "95/95 [==============================] - 0s 65us/step - loss: 0.1765 - mean_absolute_error: 0.1765 - val_loss: 0.2055 - val_mean_absolute_error: 0.2055\n",
      "Epoch 8/10\n",
      "95/95 [==============================] - 0s 198us/step - loss: 0.1727 - mean_absolute_error: 0.1727 - val_loss: 0.2049 - val_mean_absolute_error: 0.2049\n",
      "Epoch 9/10\n",
      "95/95 [==============================] - 0s 98us/step - loss: 0.1685 - mean_absolute_error: 0.1685 - val_loss: 0.2034 - val_mean_absolute_error: 0.2034\n",
      "Epoch 10/10\n",
      "95/95 [==============================] - 0s 94us/step - loss: 0.1640 - mean_absolute_error: 0.1640 - val_loss: 0.2007 - val_mean_absolute_error: 0.2007\n"
     ]
    }
   ],
   "source": [
    "#Fit simple LSTM\n",
    "network_name_lstm='lstm'\n",
    "filepath_1 = network_name_lstm+ \"_epoch-{epoch:02d}-loss-{loss:0.4f}-.hdf5\"\n",
    "checkpoint_1 = ModelCheckpoint(filepath_1, monitor = 'loss', verbose=0, save_best_only=True, mode = 'min')\n",
    "callbacks_list_1 = [checkpoint_1]\n",
    "network_1 = model1.fit(trainNormX, trainNormY, validation_data =(valNormX, valNormY), epochs = 10, batch_size=64,\n",
    "                   callbacks = callbacks_list_1)"
   ]
  },
  {
   "cell_type": "code",
   "execution_count": 124,
   "metadata": {},
   "outputs": [
    {
     "name": "stdout",
     "output_type": "stream",
     "text": [
      "Min is  0.16398397 at the index 9\n"
     ]
    }
   ],
   "source": [
    "print('Min is ',min(np.array(network_1.history['mean_absolute_error'])), 'at the index', np.array(network_1.history['mean_absolute_error']).argmin())"
   ]
  },
  {
   "cell_type": "code",
   "execution_count": 125,
   "metadata": {},
   "outputs": [
    {
     "name": "stdout",
     "output_type": "stream",
     "text": [
      "14/14 [==============================] - 0s 288us/step\n",
      "mean_absolute_error on test is 0.09469883888959885\n"
     ]
    }
   ],
   "source": [
    "score3 = model1.evaluate(testNormX,testNormY)\n",
    "print(model1.metrics_names[1],'on test is',score3[1])"
   ]
  },
  {
   "cell_type": "code",
   "execution_count": 126,
   "metadata": {},
   "outputs": [
    {
     "name": "stdout",
     "output_type": "stream",
     "text": [
      "Train on 95 samples, validate on 14 samples\n",
      "Epoch 1/10\n",
      "95/95 [==============================] - 0s 241us/step - loss: 0.1598 - mean_absolute_error: 0.1598 - val_loss: 0.1966 - val_mean_absolute_error: 0.1966\n",
      "Epoch 2/10\n",
      "95/95 [==============================] - 0s 111us/step - loss: 0.1570 - mean_absolute_error: 0.1570 - val_loss: 0.1919 - val_mean_absolute_error: 0.1919\n",
      "Epoch 3/10\n",
      "95/95 [==============================] - 0s 69us/step - loss: 0.1533 - mean_absolute_error: 0.1533 - val_loss: 0.1894 - val_mean_absolute_error: 0.1894\n",
      "Epoch 4/10\n",
      "95/95 [==============================] - 0s 112us/step - loss: 0.1507 - mean_absolute_error: 0.1507 - val_loss: 0.1875 - val_mean_absolute_error: 0.1875\n",
      "Epoch 5/10\n",
      "95/95 [==============================] - 0s 122us/step - loss: 0.1490 - mean_absolute_error: 0.1490 - val_loss: 0.1848 - val_mean_absolute_error: 0.1848\n",
      "Epoch 6/10\n",
      "95/95 [==============================] - 0s 84us/step - loss: 0.1476 - mean_absolute_error: 0.1476 - val_loss: 0.1822 - val_mean_absolute_error: 0.1822\n",
      "Epoch 7/10\n",
      "95/95 [==============================] - 0s 82us/step - loss: 0.1463 - mean_absolute_error: 0.1463 - val_loss: 0.1793 - val_mean_absolute_error: 0.1793\n",
      "Epoch 8/10\n",
      "95/95 [==============================] - 0s 74us/step - loss: 0.1451 - mean_absolute_error: 0.1451 - val_loss: 0.1765 - val_mean_absolute_error: 0.1765\n",
      "Epoch 9/10\n",
      "95/95 [==============================] - 0s 95us/step - loss: 0.1444 - mean_absolute_error: 0.1444 - val_loss: 0.1742 - val_mean_absolute_error: 0.1742\n",
      "Epoch 10/10\n",
      "95/95 [==============================] - 0s 85us/step - loss: 0.1433 - mean_absolute_error: 0.1433 - val_loss: 0.1721 - val_mean_absolute_error: 0.1721\n"
     ]
    }
   ],
   "source": [
    "network_name_gru='GRU'\n",
    "filepath_2 = network_name_gru+ \"_epoch-{epoch:02d}-loss-{loss:0.4f}-.hdf5\"\n",
    "checkpoint_2 = ModelCheckpoint(filepath_2, monitor = 'loss', verbose=0, save_best_only=True, mode = 'min')\n",
    "callbacks_list_2 = [checkpoint_2]\n",
    "network_2 = model1.fit(trainNormX, trainNormY, validation_data =(valNormX, valNormY), epochs = 10, batch_size=64,\n",
    "                   callbacks = callbacks_list)"
   ]
  },
  {
   "cell_type": "code",
   "execution_count": 127,
   "metadata": {},
   "outputs": [
    {
     "name": "stdout",
     "output_type": "stream",
     "text": [
      "Min is  0.14327489 at the index 9\n"
     ]
    }
   ],
   "source": [
    "print('Min is ',min(np.array(network_2.history['mean_absolute_error'])), 'at the index', np.array(network_2.history['mean_absolute_error']).argmin())"
   ]
  },
  {
   "cell_type": "code",
   "execution_count": 128,
   "metadata": {},
   "outputs": [
    {
     "name": "stdout",
     "output_type": "stream",
     "text": [
      "14/14 [==============================] - 0s 0us/step\n",
      "mean_absolute_error on test is 0.13935942947864532\n"
     ]
    }
   ],
   "source": [
    "score4 = model1.evaluate(testNormX,testNormY)\n",
    "print(model1.metrics_names[1],'on test is',score4[1])"
   ]
  },
  {
   "cell_type": "markdown",
   "metadata": {},
   "source": [
    "### Part C: Regular Deep Neural Network "
   ]
  },
  {
   "cell_type": "code",
   "execution_count": 129,
   "metadata": {},
   "outputs": [],
   "source": [
    "from keras.models import Sequential\n",
    "from keras.layers import Dense"
   ]
  },
  {
   "cell_type": "code",
   "execution_count": 130,
   "metadata": {},
   "outputs": [
    {
     "name": "stdout",
     "output_type": "stream",
     "text": [
      "(95, 6) (14, 6) (14, 6)\n"
     ]
    }
   ],
   "source": [
    "trainNormX = np.reshape(trainNormX, (trainNormX.shape[0], trainNormX.shape[1]))\n",
    "valNormX = np.reshape(valNormX, (valNormX.shape[0], valNormX.shape[1]))\n",
    "testNormX = np.reshape(testNormX, (testNormX.shape[0], testNormX.shape[1]))\n",
    "print(trainNormX.shape,valNormX.shape,testNormX.shape)"
   ]
  },
  {
   "cell_type": "code",
   "execution_count": 131,
   "metadata": {},
   "outputs": [
    {
     "name": "stdout",
     "output_type": "stream",
     "text": [
      "Model: \"sequential_9\"\n",
      "_________________________________________________________________\n",
      "Layer (type)                 Output Shape              Param #   \n",
      "=================================================================\n",
      "dense_14 (Dense)             (None, 128)               896       \n",
      "_________________________________________________________________\n",
      "dropout_7 (Dropout)          (None, 128)               0         \n",
      "_________________________________________________________________\n",
      "dense_15 (Dense)             (None, 64)                8256      \n",
      "_________________________________________________________________\n",
      "dropout_8 (Dropout)          (None, 64)                0         \n",
      "_________________________________________________________________\n",
      "dense_16 (Dense)             (None, 64)                4160      \n",
      "_________________________________________________________________\n",
      "dense_17 (Dense)             (None, 1)                 65        \n",
      "=================================================================\n",
      "Total params: 13,377\n",
      "Trainable params: 13,377\n",
      "Non-trainable params: 0\n",
      "_________________________________________________________________\n"
     ]
    }
   ],
   "source": [
    "modeld = Sequential()\n",
    "modeld.add(Dense(128, input_shape=(6,), activation = 'relu'))\n",
    "modeld.add(Dropout(0.1))\n",
    "modeld.add(Dense(64, activation='relu'))\n",
    "modeld.add(Dropout(0.2))\n",
    "modeld.add(Dense(64, activation = 'relu'))\n",
    "modeld.add(Dense(1, activation = 'linear'))\n",
    "modeld.compile(optimizer='adam', loss='mae', metrics=['mean_absolute_error'])\n",
    "modeld.summary()\n",
    "network_d = modeld.fit(trainNormX, trainNormY, validation_data=(valNormX, valNormY), epochs=100, batch_size=32, verbose=0)"
   ]
  },
  {
   "cell_type": "code",
   "execution_count": 132,
   "metadata": {},
   "outputs": [
    {
     "name": "stdout",
     "output_type": "stream",
     "text": [
      "DNN_Mean_Absolute_Error: 0.1003088297437968\n"
     ]
    }
   ],
   "source": [
    "from sklearn.metrics import mean_absolute_error\n",
    "pred_d = modeld.predict(testNormX)\n",
    "mae = mean_absolute_error(testNormY, pred_d)\n",
    "print('DNN_Mean_Absolute_Error:', mae)"
   ]
  },
  {
   "cell_type": "code",
   "execution_count": 133,
   "metadata": {},
   "outputs": [
    {
     "data": {
      "image/png": "[encoded data removed]",
      "text/plain": [
       "<Figure size 432x288 with 1 Axes>"
      ]
     },
     "metadata": {
      "needs_background": "light"
     },
     "output_type": "display_data"
    }
   ],
   "source": [
    "plt.plot(network_d.history['loss'], label = 'Train_loss')\n",
    "plt.plot(network_d.history['val_loss'], label = 'Val loss')\n",
    "plt.legend()\n",
    "plt.show()"
   ]
  },
  {
   "cell_type": "markdown",
   "metadata": {},
   "source": [
    "### Part D: Comments on the performance of the models."
   ]
  },
  {
   "cell_type": "markdown",
   "metadata": {},
   "source": [
    "***From all of the above models we got the lowest MAE for LSTM model i.e mean_absolute_error on test is 0.08871124684810638, therefore this is the best model.***  "
   ]
  }
 ],
 "metadata": {
  "kernelspec": {
   "display_name": "Python 3",
   "language": "python",
   "name": "python3"
  },
  "language_info": {
   "codemirror_mode": {
    "name": "ipython",
    "version": 3
   },
   "file_extension": ".py",
   "mimetype": "text/x-python",
   "name": "python",
   "nbconvert_exporter": "python",
   "pygments_lexer": "ipython3",
   "version": "3.8.3"
  }
 },
 "nbformat": 4,
 "nbformat_minor": 4
}
